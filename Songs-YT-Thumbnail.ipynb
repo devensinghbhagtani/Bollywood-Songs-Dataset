{
 "cells": [
  {
   "cell_type": "code",
   "execution_count": 99,
   "id": "d0f34397",
   "metadata": {},
   "outputs": [],
   "source": [
    "import os\n",
    "from googleapiclient.discovery import build\n",
    "import pandas as pd"
   ]
  },
  {
   "cell_type": "code",
   "execution_count": 100,
   "id": "6de8ec28",
   "metadata": {},
   "outputs": [],
   "source": [
    "songs = pd.read_csv('Lyrics-Dataset.csv')"
   ]
  },
  {
   "cell_type": "code",
   "execution_count": 101,
   "id": "16498f90",
   "metadata": {},
   "outputs": [],
   "source": [
    "songs['name'] = songs['music_name'] + ' ' + songs['singer']"
   ]
  },
  {
   "cell_type": "code",
   "execution_count": 102,
   "id": "0ab2e281",
   "metadata": {},
   "outputs": [],
   "source": [
    "songs = songs[['name']]"
   ]
  },
  {
   "cell_type": "code",
   "execution_count": 103,
   "id": "812b18dc",
   "metadata": {},
   "outputs": [
    {
     "data": {
      "text/plain": [
       "974"
      ]
     },
     "execution_count": 103,
     "metadata": {},
     "output_type": "execute_result"
    }
   ],
   "source": [
    "Bollywood-Songs-Dataset(2017-23)len(songs['name'])"
   ]
  },
  {
   "cell_type": "code",
   "execution_count": 104,
   "id": "86decc16",
   "metadata": {
    "scrolled": true
   },
   "outputs": [],
   "source": [
    "#get your api key from google cloud console\n",
    "api_key = 'yourapikey' \n",
    "youtube = build('youtube', 'v3', developerKey=api_key)"
   ]
  },
  {
   "cell_type": "code",
   "execution_count": 105,
   "id": "09f9ecca",
   "metadata": {},
   "outputs": [],
   "source": [
    "def thumbnailfind(csvresult):\n",
    "    request = youtube.search().list(\n",
    "        part=\"snippet\",\n",
    "        maxResults=1,\n",
    "        q= csvresult)\n",
    "    response = request.execute()\n",
    "    \n",
    "    data = response['items'][0]['snippet']['thumbnails']['high']['url']\n",
    "    return data"
   ]
  },
  {
   "cell_type": "code",
   "execution_count": 106,
   "id": "644404d6",
   "metadata": {
    "scrolled": true
   },
   "outputs": [],
   "source": [
    "data = []\n",
    "for i in range(0, 975):\n",
    "    data.append(thumbnailfind(songs['name'][i]))"
   ]
  },
  {
   "cell_type": "code",
   "execution_count": 107,
   "id": "ca9799da",
   "metadata": {},
   "outputs": [
    {
     "data": {
      "text/plain": [
       "['https://i.ytimg.com/vi/WqUXVw0WlXc/hqdefault.jpg',\n",
       " 'https://i.ytimg.com/vi/CSjjyRJMS9I/hqdefault.jpg']"
      ]
     },
     "execution_count": 107,
     "metadata": {},
     "output_type": "execute_result"
    }
   ],
   "source": [
    "data"
   ]
  },
  {
   "cell_type": "code",
   "execution_count": 96,
   "id": "9e28d248",
   "metadata": {},
   "outputs": [
    {
     "data": {
      "text/plain": [
       "74"
      ]
     },
     "execution_count": 96,
     "metadata": {},
     "output_type": "execute_result"
    }
   ],
   "source": [
    "len(data)"
   ]
  },
  {
   "cell_type": "code",
   "execution_count": 97,
   "id": "276984d9",
   "metadata": {},
   "outputs": [],
   "source": [
    "df = pd.DataFrame(\n",
    "    {'thumbnail':data,\n",
    "    })"
   ]
  },
  {
   "cell_type": "code",
   "execution_count": 98,
   "id": "f6e09892",
   "metadata": {},
   "outputs": [],
   "source": [
    "df.to_csv('Bollywood-Songs-Dataset(2017-23).csv')"
   ]
  }
 ],
 "metadata": {
  "kernelspec": {
   "display_name": "Python 3 (ipykernel)",
   "language": "python",
   "name": "python3"
  },
  "language_info": {
   "codemirror_mode": {
    "name": "ipython",
    "version": 3
   },
   "file_extension": ".py",
   "mimetype": "text/x-python",
   "name": "python",
   "nbconvert_exporter": "python",
   "pygments_lexer": "ipython3",
   "version": "3.11.3"
  }
 },
 "nbformat": 4,
 "nbformat_minor": 5
}
