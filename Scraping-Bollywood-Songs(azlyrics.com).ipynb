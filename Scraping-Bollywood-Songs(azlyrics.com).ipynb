{
 "cells": [
  {
   "cell_type": "code",
   "execution_count": 1,
   "id": "61cc9f0b",
   "metadata": {},
   "outputs": [],
   "source": [
    "import pandas as pd\n",
    "import requests\n",
    "from bs4 import BeautifulSoup\n",
    "import numpy as np\n",
    "import re\n",
    "import time"
   ]
  },
  {
   "cell_type": "code",
   "execution_count": 2,
   "id": "528ffff1",
   "metadata": {},
   "outputs": [],
   "source": [
    "songs = pd.read_csv('az.csv')\n",
    "rows = []"
   ]
  },
  {
   "cell_type": "code",
   "execution_count": 3,
   "id": "da975ecb",
   "metadata": {},
   "outputs": [],
   "source": [
    "for i in songs['song_link']:\n",
    "    rows.append(i)"
   ]
  },
  {
   "cell_type": "code",
   "execution_count": 4,
   "id": "f34849c6",
   "metadata": {},
   "outputs": [],
   "source": [
    "music_name = []\n",
    "singer = []\n",
    "album_name = []\n",
    "lyrics = []\n",
    "release = []"
   ]
  },
  {
   "cell_type": "code",
   "execution_count": 5,
   "id": "e9e1913c",
   "metadata": {},
   "outputs": [
    {
     "data": {
      "text/plain": [
       "934"
      ]
     },
     "execution_count": 5,
     "metadata": {},
     "output_type": "execute_result"
    }
   ],
   "source": [
    "len(rows)"
   ]
  },
  {
   "cell_type": "code",
   "execution_count": 6,
   "id": "65841be5",
   "metadata": {
    "scrolled": true
   },
   "outputs": [],
   "source": [
    "for i in range(0,934):\n",
    "    html = requests.get(rows[i])\n",
    "    soup = BeautifulSoup(html.content, 'html.parser')\n",
    "    \n",
    "    singer_name = soup.h2.b.text.replace(' Lyrics', '').replace(' &', ',')\n",
    "    singer.append(singer_name)\n",
    "    \n",
    "    song_var = soup.findAll('b')[1].text.replace('\"', '')\n",
    "    music_name.append(song_var)\n",
    "    \n",
    "    if 'feat' in soup:\n",
    "        album_var = soup.find('span', attrs = {'class': 'feat'}).text.replace('(from \"', '').replace('\" soundtrack)', '')\n",
    "        album_name.append(album_var)\n",
    "    else:\n",
    "        album_var = ''\n",
    "        album_name.append(album_var)\n",
    "    \n",
    "    lyrics_var = soup.findAll('div')[22].text.replace('\\n',' ').replace('\\r', '').strip()\n",
    "    lyrics.append(lyrics_var)\n",
    "    \n",
    "    release_var = soup.find('div', attrs={'class': 'songinalbum_title'}).text.split('(')[1].replace(')', '')\n",
    "    release.append(release_var)\n",
    "    time.sleep(3)\n",
    "    \n",
    "#Note: Azlyrics tracks frequent page visits and enforces an IP ban after 100 reloads"
   ]
  },
  {
   "cell_type": "code",
   "execution_count": 7,
   "id": "a7d5ce52",
   "metadata": {
    "scrolled": true
   },
   "outputs": [
    {
     "data": {
      "text/plain": [
       "10"
      ]
     },
     "execution_count": 7,
     "metadata": {},
     "output_type": "execute_result"
    }
   ],
   "source": [
    "len(singer)"
   ]
  },
  {
   "cell_type": "code",
   "execution_count": 8,
   "id": "663712d1",
   "metadata": {
    "scrolled": true
   },
   "outputs": [],
   "source": [
    "df = pd.DataFrame({\n",
    "    'music_name':music_name,\n",
    "    'singer':singer,\n",
    "    'album_name':album_name,\n",
    "    'release':release,\n",
    "    'lyrics':lyrics\n",
    "})"
   ]
  },
  {
   "cell_type": "code",
   "execution_count": 9,
   "id": "639fe4db",
   "metadata": {},
   "outputs": [],
   "source": [
    "df.to_csv('Lyrics-Dataset(2018-23).csv')"
   ]
  },
  {
   "cell_type": "code",
   "execution_count": null,
   "id": "015e71c7",
   "metadata": {},
   "outputs": [],
   "source": []
  }
 ],
 "metadata": {
  "kernelspec": {
   "display_name": "Python 3 (ipykernel)",
   "language": "python",
   "name": "python3"
  },
  "language_info": {
   "codemirror_mode": {
    "name": "ipython",
    "version": 3
   },
   "file_extension": ".py",
   "mimetype": "text/x-python",
   "name": "python",
   "nbconvert_exporter": "python",
   "pygments_lexer": "ipython3",
   "version": "3.11.3"
  }
 },
 "nbformat": 4,
 "nbformat_minor": 5
}
